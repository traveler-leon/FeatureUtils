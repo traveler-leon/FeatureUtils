{
 "cells": [
  {
   "cell_type": "code",
   "execution_count": 73,
   "id": "a4cafa72",
   "metadata": {},
   "outputs": [],
   "source": [
    "import pandas as pd\n",
    "import numpy as np"
   ]
  },
  {
   "cell_type": "code",
   "execution_count": 146,
   "id": "9ad56308",
   "metadata": {},
   "outputs": [],
   "source": [
    "df1 = pd.read_excel('./债券数据.xlsx',sheet_name='未违约债券数据')\n",
    "df2 = pd.read_excel('./债券数据.xlsx',sheet_name=' 违约债券数据')\n",
    "df1['label'] = 1\n",
    "df2['label'] = 0\n",
    "df = pd.concat([df1,df2],ignore_index=True)\n",
    "df = df.sample(frac=1).reset_index(drop=True)"
   ]
  },
  {
   "cell_type": "markdown",
   "id": "08fc560f",
   "metadata": {},
   "source": [
    "## 缺失情况判断，以及删除缺失过大的行和列"
   ]
  },
  {
   "cell_type": "code",
   "execution_count": 147,
   "id": "ae62bddc",
   "metadata": {
    "scrolled": true
   },
   "outputs": [
    {
     "name": "stdout",
     "output_type": "stream",
     "text": [
      "行缺失率大于70%的行index为：====》[54, 767]\n",
      "列缺失率大于80%的列columns为：====》['信用风险事件']\n",
      "特征值唯一的列columns为：====》['计息方式', '息票品种']\n",
      "最终需要删除的列columns为：====》['信用风险事件', '计息方式', '息票品种']\n"
     ]
    }
   ],
   "source": [
    " #============= 缺失率 ================  \n",
    "#行缺失\n",
    "def idx_missing(data,features):\n",
    "    total=data[features].isnull().sum(axis=1).sort_values(ascending=False)\n",
    "    percent=total/len(features)\n",
    "    missing_data=pd.concat([total,percent],axis=1,keys=['Total','Percent'])\n",
    "    return missing_data\n",
    "# 列缺失\n",
    "def col_missing(data,features):\n",
    "    total=data[features].isnull().sum().sort_values(ascending=False)\n",
    "    percent=total/len(data)\n",
    "    missing_data=pd.concat([total,percent],axis=1,keys=['Total','Percent'])\n",
    "    return missing_data\n",
    "\n",
    "#  * unique过滤\n",
    "def uni(data,features):\n",
    "    temp=[data[item].nunique()  for item in features]\n",
    "    feature_unique=pd.DataFrame()\n",
    "    feature_unique['feature_name']=features\n",
    "    feature_unique['unique']=temp\n",
    "    feature_unique=feature_unique.sort_values(by='unique',ascending=False)\n",
    "    return feature_unique\n",
    "\n",
    "features = df.columns.to_list()\n",
    "# 行缺失处理\n",
    "idx_missing_data=idx_missing(df,features)\n",
    "idx_miss_drop=idx_missing_data[idx_missing_data.Percent>0.7].index.to_list()\n",
    "print('行缺失率大于70%的行index为：====》{0}'.format(idx_miss_drop))\n",
    "df = df.drop(idx_miss_drop,axis=0)\n",
    "\n",
    "#列缺失和唯一值处理\n",
    "# col_missing_data=col_missing(df,num_fea+cat_fea)\n",
    "col_missing_data=col_missing(df,features)\n",
    "miss_drop=col_missing_data[col_missing_data.Percent>0.80].index.to_list()\n",
    "print('列缺失率大于80%的列columns为：====》{0}'.format(miss_drop))\n",
    "# feature_unique=uni(df,num_fea+cat_fea)\n",
    "feature_unique=uni(df,features)\n",
    "unique_drop=feature_unique.loc[feature_unique['unique']==1,'feature_name'].to_list()\n",
    "print('特征值唯一的列columns为：====》{0}'.format(unique_drop))\n",
    "to_drop=list(set(miss_drop+unique_drop))\n",
    "print('最终需要删除的列columns为：====》{0}'.format(to_drop))\n",
    "df=df.drop(to_drop,axis=1) "
   ]
  },
  {
   "cell_type": "markdown",
   "id": "70b1bb7a",
   "metadata": {},
   "source": [
    "## 缺失值填充"
   ]
  },
  {
   "cell_type": "code",
   "execution_count": 148,
   "id": "98100223",
   "metadata": {},
   "outputs": [],
   "source": [
    "#找出类别型特征名\n",
    "cat_fea=df.dtypes[df.dtypes=='object'].index.to_list()\n",
    "#找出数值型特征名\n",
    "num_fea=df.dtypes[df.dtypes!='object'].index.to_list()\n",
    "num_fea.remove('label')\n",
    "# 众数统计\n",
    "mod_dic = df[cat_fea].mode(dropna=True).iloc[0,:].to_dict()\n",
    "num_dic = df[num_fea].median(skipna=True).to_dict()\n",
    "df.loc[:,num_fea] = df.loc[:,num_fea].fillna(value=num_dic)\n",
    "df.loc[:,cat_fea] = df.loc[:,cat_fea].fillna(value=mod_dic)"
   ]
  },
  {
   "cell_type": "markdown",
   "id": "3e6734f3",
   "metadata": {},
   "source": [
    "## 特征数值化处理"
   ]
  },
  {
   "cell_type": "code",
   "execution_count": 149,
   "id": "2c6b86a7",
   "metadata": {},
   "outputs": [],
   "source": [
    "from sklearn import preprocessing\n",
    "modle_num = preprocessing.StandardScaler()\n",
    "df.loc[:,num_fea] = modle_num.fit_transform(df.loc[:,num_fea])\n",
    "modle_cat = preprocessing.OrdinalEncoder()\n",
    "df.loc[:,cat_fea] = modle_cat.fit_transform(df.loc[:,cat_fea])"
   ]
  },
  {
   "cell_type": "markdown",
   "id": "d771a363",
   "metadata": {},
   "source": [
    "## 数据集划分"
   ]
  },
  {
   "cell_type": "code",
   "execution_count": 84,
   "id": "8e82da82",
   "metadata": {},
   "outputs": [],
   "source": [
    "from sklearn.ensemble import GradientBoostingClassifier\n",
    "from sklearn.model_selection import GridSearchCV\n",
    "from sklearn.model_selection import train_test_split\n",
    "from sklearn.model_selection import cross_val_score"
   ]
  },
  {
   "cell_type": "code",
   "execution_count": 85,
   "id": "aac8105b",
   "metadata": {},
   "outputs": [],
   "source": [
    "features = df.drop('label', axis=1)\n",
    "label = df['label']\n",
    "X_train, X_test, y_train, y_test = train_test_split(\n",
    "    features,\n",
    "    label,\n",
    "    test_size=0.2,\n",
    "    random_state=1,\n",
    "    stratify=label\n",
    ")"
   ]
  },
  {
   "cell_type": "markdown",
   "id": "9f20e1cb",
   "metadata": {},
   "source": [
    "## 模型构建以及参数选择"
   ]
  },
  {
   "cell_type": "code",
   "execution_count": 87,
   "id": "f9ab6060",
   "metadata": {
    "scrolled": false
   },
   "outputs": [
    {
     "name": "stdout",
     "output_type": "stream",
     "text": [
      "Fitting 5 folds for each of 270 candidates, totalling 1350 fits\n",
      "最好的参数设置为：\n",
      "{'max_features': 29, 'max_leaf_nodes': 6, 'n_estimators': 350}\n"
     ]
    }
   ],
   "source": [
    "parameter_space = {\n",
    "    'n_estimators': range(100, 400, 50),\n",
    "    #                   'validation_fraction':[i/10.0 for i in range(1,10)],\n",
    "    'max_features': range(5, 30, 3),\n",
    "    'max_leaf_nodes': range(2, 7, 1)\n",
    "}\n",
    "\n",
    "gbc = GradientBoostingClassifier(criterion='friedman_mse', init=None,\n",
    "                                 learning_rate=0.01, loss='log_loss', max_depth=16,\n",
    "                                 max_features=None, max_leaf_nodes=None,\n",
    "                                 min_impurity_decrease=0.0,\n",
    "                                 min_samples_leaf=0.05, min_samples_split=35,\n",
    "                                 min_weight_fraction_leaf=0.0, n_estimators=350,\n",
    "                                 n_iter_no_change=None,\n",
    "                                 random_state=44, subsample=1.0, tol=0.0001,\n",
    "                                 validation_fraction=0.1, verbose=0,\n",
    "                                 warm_start=False)\n",
    "\n",
    "# 计算最好的参数，如果不需要调参则注释这部分\n",
    "grid = GridSearchCV(gbc, parameter_space, n_jobs=-1, cv=5, verbose=5)\n",
    "grid.fit(X_train, y_train.astype('int'))\n",
    "print('最好的参数设置为：')\n",
    "print(grid.best_params_)\n",
    "bclt = grid.best_estimator_\n",
    "\n",
    "bclt = bclt.fit(X_train,  y_train.astype('int'))"
   ]
  },
  {
   "cell_type": "markdown",
   "id": "3db7c884",
   "metadata": {},
   "source": [
    "## 模型的指标计算"
   ]
  },
  {
   "cell_type": "code",
   "execution_count": 90,
   "id": "e8d2e106",
   "metadata": {},
   "outputs": [],
   "source": [
    "print('Start predicting...')\n",
    "y_pred= bclt.predict(X_test)\n",
    "#预测出概率值\n",
    "# y_pred_pro = bclt.predict_proba(X_test)"
   ]
  },
  {
   "cell_type": "code",
   "execution_count": 157,
   "id": "710836bb",
   "metadata": {},
   "outputs": [
    {
     "name": "stdout",
     "output_type": "stream",
     "text": [
      "精确率为：0.9742268041237113\n",
      "召回率为：0.8529411764705883\n",
      "f1分数为：0.9721844559729151\n",
      "auc分数为：0.8529411764705882\n"
     ]
    },
    {
     "data": {
      "text/plain": [
       "<matplotlib.legend.Legend at 0x272d59b5490>"
      ]
     },
     "execution_count": 157,
     "metadata": {},
     "output_type": "execute_result"
    },
    {
     "data": {
      "image/png": "[encoded data removed]",
      "text/plain": [
       "<Figure size 640x480 with 1 Axes>"
      ]
     },
     "metadata": {},
     "output_type": "display_data"
    }
   ],
   "source": [
    "from sklearn import metrics\n",
    "import matplotlib.pyplot as plt\n",
    "acc = metrics.accuracy_score(y_test, y_pred) \n",
    "print('精确率为：{}'.format(acc))\n",
    "\n",
    "rcall = metrics.recall_score(y_test, y_pred,average='macro') \n",
    "print('召回率为：{}'.format(rcall))\n",
    "f1 = metrics.f1_score(y_test, y_pred,average='weighted') \n",
    "print('f1分数为：{}'.format(f1))\n",
    "auc = metrics.roc_auc_score(y_test, y_pred) \n",
    "print('auc分数为：{}'.format(auc))\n",
    "\n",
    "\n",
    "fpr, tpr, thersholds = metrics.roc_curve(y_test, y_pred,pos_label=1)\n",
    "roc_auc = metrics.auc(fpr, tpr)\n",
    "plt.plot(fpr, tpr, 'k--', label='ROC (area = {0:.2f})'.format(roc_auc), lw=2)\n",
    "plt.xlim([-0.05, 1.05])  # 设置x、y轴的上下限，以免和边缘重合，更好的观察图像的整体\n",
    "plt.ylim([-0.05, 1.05])\n",
    "plt.xlabel('False Positive Rate')\n",
    "plt.ylabel('True Positive Rate')  # 可以使用中文，但需要导入一些库即字体\n",
    "plt.title('ROC Curve')\n",
    "plt.legend(loc=\"lower right\")"
   ]
  },
  {
   "cell_type": "markdown",
   "id": "cb28cef5",
   "metadata": {},
   "source": [
    "## 特征重要性计算"
   ]
  },
  {
   "cell_type": "code",
   "execution_count": 142,
   "id": "12ea640b",
   "metadata": {},
   "outputs": [],
   "source": [
    "imp = bclt.feature_importances_.tolist()\n",
    "col_name = df.columns.to_list()\n",
    "col_name.remove('label')\n",
    "fea_importance = zip(col_name,imp)\n",
    "fea_importance = dict(fea_importance)\n",
    "fea_importance= sorted(fea_importance.items(), key=lambda d:d[1], reverse = True)\n",
    "print('特征重要性为:')\n",
    "fea_importance"
   ]
  }
 ],
 "metadata": {
  "kernelspec": {
   "display_name": "Python 3 (ipykernel)",
   "language": "python",
   "name": "python3"
  },
  "language_info": {
   "codemirror_mode": {
    "name": "ipython",
    "version": 3
   },
   "file_extension": ".py",
   "mimetype": "text/x-python",
   "name": "python",
   "nbconvert_exporter": "python",
   "pygments_lexer": "ipython3",
   "version": "3.9.13"
  },
  "toc": {
   "base_numbering": 1,
   "nav_menu": {},
   "number_sections": true,
   "sideBar": true,
   "skip_h1_title": false,
   "title_cell": "Table of Contents",
   "title_sidebar": "Contents",
   "toc_cell": false,
   "toc_position": {},
   "toc_section_display": true,
   "toc_window_display": false
  },
  "vp": {
   "vp_config_version": "1.0.0",
   "vp_menu_width": 273,
   "vp_note_display": false,
   "vp_note_width": 0,
   "vp_position": {
    "width": 278
   },
   "vp_section_display": false,
   "vp_signature": "VisualPython"
  }
 },
 "nbformat": 4,
 "nbformat_minor": 5
}
