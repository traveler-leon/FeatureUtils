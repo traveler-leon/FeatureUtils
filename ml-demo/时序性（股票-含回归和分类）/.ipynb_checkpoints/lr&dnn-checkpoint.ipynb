{
 "cells": [
  {
   "cell_type": "code",
   "execution_count": 1,
   "id": "f90f3cde",
   "metadata": {},
   "outputs": [],
   "source": [
    "import os\n",
    "import time\n",
    "import pandas as pd\n",
    "from sklearn.ensemble import GradientBoostingClassifier\n",
    "from sklearn.model_selection import GridSearchCV\n",
    "from sklearn.model_selection import train_test_split\n",
    "from sklearn.model_selection import cross_val_score\n",
    "from sklearn.model_selection import KFold, cross_val_score as CVS\n",
    "import numpy as np\n",
    "import matplotlib.pyplot as plt\n",
    "from time import time\n",
    "import datetime\n",
    "from sklearn.model_selection import train_test_split\n",
    "from sklearn.linear_model import LogisticRegression\n",
    "from sklearn.metrics import accuracy_score\n",
    "import warnings\n",
    "warnings.filterwarnings('ignore')"
   ]
  },
  {
   "cell_type": "code",
   "execution_count": 2,
   "id": "2d106d11",
   "metadata": {},
   "outputs": [],
   "source": [
    "import os\n",
    "import pandas as pd\n",
    "\n",
    "paras_path = './paras_data/'\n",
    "files = os.listdir(paras_path)\n",
    "dfs = []\n",
    "for file in files:\n",
    "    if file.endswith('.xlsx'):\n",
    "        file_path = os.path.join(paras_path, file)\n",
    "        df = pd.read_excel(file_path)\n",
    "        dfs.append(df)\n",
    "\n",
    "combined_df = pd.concat(dfs, ignore_index=True)\n"
   ]
  },
  {
   "cell_type": "code",
   "execution_count": 3,
   "id": "5abc5fa1",
   "metadata": {},
   "outputs": [
    {
     "data": {
      "text/html": [
       "<div>\n",
       "<style scoped>\n",
       "    .dataframe tbody tr th:only-of-type {\n",
       "        vertical-align: middle;\n",
       "    }\n",
       "\n",
       "    .dataframe tbody tr th {\n",
       "        vertical-align: top;\n",
       "    }\n",
       "\n",
       "    .dataframe thead th {\n",
       "        text-align: right;\n",
       "    }\n",
       "</style>\n",
       "<table border=\"1\" class=\"dataframe\">\n",
       "  <thead>\n",
       "    <tr style=\"text-align: right;\">\n",
       "      <th></th>\n",
       "      <th>open_0_10_mean</th>\n",
       "      <th>high_0_10_mean</th>\n",
       "      <th>low_0_10_mean</th>\n",
       "      <th>close_0_10_mean</th>\n",
       "      <th>open_0_10_sum</th>\n",
       "      <th>high_0_10_sum</th>\n",
       "      <th>low_0_10_sum</th>\n",
       "      <th>close_0_10_sum</th>\n",
       "      <th>open_0_10_max</th>\n",
       "      <th>high_0_10_max</th>\n",
       "      <th>...</th>\n",
       "      <th>open_0_720_min</th>\n",
       "      <th>high_0_720_min</th>\n",
       "      <th>low_0_720_min</th>\n",
       "      <th>close_0_720_min</th>\n",
       "      <th>open_0_720_std</th>\n",
       "      <th>high_0_720_std</th>\n",
       "      <th>low_0_720_std</th>\n",
       "      <th>close_0_720_std</th>\n",
       "      <th>y_7</th>\n",
       "      <th>label</th>\n",
       "    </tr>\n",
       "  </thead>\n",
       "  <tbody>\n",
       "    <tr>\n",
       "      <th>0</th>\n",
       "      <td>15.386350</td>\n",
       "      <td>15.592550</td>\n",
       "      <td>15.328050</td>\n",
       "      <td>15.484950</td>\n",
       "      <td>30.7727</td>\n",
       "      <td>31.1851</td>\n",
       "      <td>30.6561</td>\n",
       "      <td>30.9699</td>\n",
       "      <td>15.4222</td>\n",
       "      <td>15.6015</td>\n",
       "      <td>...</td>\n",
       "      <td>15.3505</td>\n",
       "      <td>15.5836</td>\n",
       "      <td>15.2877</td>\n",
       "      <td>15.3863</td>\n",
       "      <td>0.050700</td>\n",
       "      <td>0.012657</td>\n",
       "      <td>0.057064</td>\n",
       "      <td>0.139512</td>\n",
       "      <td>16.4802</td>\n",
       "      <td>1</td>\n",
       "    </tr>\n",
       "    <tr>\n",
       "      <th>1</th>\n",
       "      <td>15.365433</td>\n",
       "      <td>15.580600</td>\n",
       "      <td>15.326567</td>\n",
       "      <td>15.475967</td>\n",
       "      <td>46.0963</td>\n",
       "      <td>46.7418</td>\n",
       "      <td>45.9797</td>\n",
       "      <td>46.4279</td>\n",
       "      <td>15.4222</td>\n",
       "      <td>15.6015</td>\n",
       "      <td>...</td>\n",
       "      <td>15.3236</td>\n",
       "      <td>15.5567</td>\n",
       "      <td>15.2877</td>\n",
       "      <td>15.3863</td>\n",
       "      <td>0.050968</td>\n",
       "      <td>0.022550</td>\n",
       "      <td>0.040432</td>\n",
       "      <td>0.099870</td>\n",
       "      <td>16.4802</td>\n",
       "      <td>1</td>\n",
       "    </tr>\n",
       "    <tr>\n",
       "      <th>2</th>\n",
       "      <td>15.413250</td>\n",
       "      <td>15.655325</td>\n",
       "      <td>15.366150</td>\n",
       "      <td>15.561150</td>\n",
       "      <td>61.6530</td>\n",
       "      <td>62.6213</td>\n",
       "      <td>61.4646</td>\n",
       "      <td>62.2446</td>\n",
       "      <td>15.5567</td>\n",
       "      <td>15.8795</td>\n",
       "      <td>...</td>\n",
       "      <td>15.3236</td>\n",
       "      <td>15.5567</td>\n",
       "      <td>15.2877</td>\n",
       "      <td>15.3863</td>\n",
       "      <td>0.104296</td>\n",
       "      <td>0.150580</td>\n",
       "      <td>0.085774</td>\n",
       "      <td>0.188876</td>\n",
       "      <td>16.4802</td>\n",
       "      <td>1</td>\n",
       "    </tr>\n",
       "    <tr>\n",
       "      <th>3</th>\n",
       "      <td>15.497520</td>\n",
       "      <td>15.719880</td>\n",
       "      <td>15.409640</td>\n",
       "      <td>15.579980</td>\n",
       "      <td>77.4876</td>\n",
       "      <td>78.5994</td>\n",
       "      <td>77.0482</td>\n",
       "      <td>77.8999</td>\n",
       "      <td>15.8346</td>\n",
       "      <td>15.9781</td>\n",
       "      <td>...</td>\n",
       "      <td>15.3236</td>\n",
       "      <td>15.5567</td>\n",
       "      <td>15.2877</td>\n",
       "      <td>15.3863</td>\n",
       "      <td>0.208963</td>\n",
       "      <td>0.194531</td>\n",
       "      <td>0.122371</td>\n",
       "      <td>0.168904</td>\n",
       "      <td>16.4802</td>\n",
       "      <td>1</td>\n",
       "    </tr>\n",
       "    <tr>\n",
       "      <th>4</th>\n",
       "      <td>15.516350</td>\n",
       "      <td>15.730033</td>\n",
       "      <td>15.440117</td>\n",
       "      <td>15.594033</td>\n",
       "      <td>93.0981</td>\n",
       "      <td>94.3802</td>\n",
       "      <td>92.6407</td>\n",
       "      <td>93.5642</td>\n",
       "      <td>15.8346</td>\n",
       "      <td>15.9781</td>\n",
       "      <td>...</td>\n",
       "      <td>15.3236</td>\n",
       "      <td>15.5567</td>\n",
       "      <td>15.2877</td>\n",
       "      <td>15.3863</td>\n",
       "      <td>0.192509</td>\n",
       "      <td>0.175763</td>\n",
       "      <td>0.132487</td>\n",
       "      <td>0.154944</td>\n",
       "      <td>16.4802</td>\n",
       "      <td>1</td>\n",
       "    </tr>\n",
       "  </tbody>\n",
       "</table>\n",
       "<p>5 rows × 142 columns</p>\n",
       "</div>"
      ],
      "text/plain": [
       "   open_0_10_mean  high_0_10_mean  low_0_10_mean  close_0_10_mean  \\\n",
       "0       15.386350       15.592550      15.328050        15.484950   \n",
       "1       15.365433       15.580600      15.326567        15.475967   \n",
       "2       15.413250       15.655325      15.366150        15.561150   \n",
       "3       15.497520       15.719880      15.409640        15.579980   \n",
       "4       15.516350       15.730033      15.440117        15.594033   \n",
       "\n",
       "   open_0_10_sum  high_0_10_sum  low_0_10_sum  close_0_10_sum  open_0_10_max  \\\n",
       "0        30.7727        31.1851       30.6561         30.9699        15.4222   \n",
       "1        46.0963        46.7418       45.9797         46.4279        15.4222   \n",
       "2        61.6530        62.6213       61.4646         62.2446        15.5567   \n",
       "3        77.4876        78.5994       77.0482         77.8999        15.8346   \n",
       "4        93.0981        94.3802       92.6407         93.5642        15.8346   \n",
       "\n",
       "   high_0_10_max  ...  open_0_720_min  high_0_720_min  low_0_720_min  \\\n",
       "0        15.6015  ...         15.3505         15.5836        15.2877   \n",
       "1        15.6015  ...         15.3236         15.5567        15.2877   \n",
       "2        15.8795  ...         15.3236         15.5567        15.2877   \n",
       "3        15.9781  ...         15.3236         15.5567        15.2877   \n",
       "4        15.9781  ...         15.3236         15.5567        15.2877   \n",
       "\n",
       "   close_0_720_min  open_0_720_std  high_0_720_std  low_0_720_std  \\\n",
       "0          15.3863        0.050700        0.012657       0.057064   \n",
       "1          15.3863        0.050968        0.022550       0.040432   \n",
       "2          15.3863        0.104296        0.150580       0.085774   \n",
       "3          15.3863        0.208963        0.194531       0.122371   \n",
       "4          15.3863        0.192509        0.175763       0.132487   \n",
       "\n",
       "   close_0_720_std      y_7  label  \n",
       "0         0.139512  16.4802      1  \n",
       "1         0.099870  16.4802      1  \n",
       "2         0.188876  16.4802      1  \n",
       "3         0.168904  16.4802      1  \n",
       "4         0.154944  16.4802      1  \n",
       "\n",
       "[5 rows x 142 columns]"
      ]
     },
     "execution_count": 3,
     "metadata": {},
     "output_type": "execute_result"
    }
   ],
   "source": [
    "combined_df.head()"
   ]
  },
  {
   "cell_type": "code",
   "execution_count": 4,
   "id": "bc610e99",
   "metadata": {},
   "outputs": [],
   "source": [
    "from sklearn import preprocessing\n",
    "feature_col = df.columns.to_list()\n",
    "feature_col.remove('label')\n",
    "modle_num = preprocessing.StandardScaler()\n",
    "combined_df.loc[:,feature_col] = modle_num.fit_transform(combined_df.loc[:,feature_col])"
   ]
  },
  {
   "cell_type": "code",
   "execution_count": 5,
   "id": "78f51690",
   "metadata": {},
   "outputs": [],
   "source": [
    "features = combined_df.drop('label', axis=1)\n",
    "label = combined_df['label']\n",
    "X_train, X_test, y_train, y_test = train_test_split(\n",
    "    features,\n",
    "    label,\n",
    "    test_size=0.2,\n",
    "    random_state=1,\n",
    "    stratify=label\n",
    ")"
   ]
  },
  {
   "cell_type": "markdown",
   "id": "e6a2d3bf",
   "metadata": {},
   "source": [
    "## lr"
   ]
  },
  {
   "cell_type": "code",
   "execution_count": 6,
   "id": "74c17a9d",
   "metadata": {},
   "outputs": [
    {
     "data": {
      "text/html": [
       "<style>#sk-container-id-1 {color: black;background-color: white;}#sk-container-id-1 pre{padding: 0;}#sk-container-id-1 div.sk-toggleable {background-color: white;}#sk-container-id-1 label.sk-toggleable__label {cursor: pointer;display: block;width: 100%;margin-bottom: 0;padding: 0.3em;box-sizing: border-box;text-align: center;}#sk-container-id-1 label.sk-toggleable__label-arrow:before {content: \"▸\";float: left;margin-right: 0.25em;color: #696969;}#sk-container-id-1 label.sk-toggleable__label-arrow:hover:before {color: black;}#sk-container-id-1 div.sk-estimator:hover label.sk-toggleable__label-arrow:before {color: black;}#sk-container-id-1 div.sk-toggleable__content {max-height: 0;max-width: 0;overflow: hidden;text-align: left;background-color: #f0f8ff;}#sk-container-id-1 div.sk-toggleable__content pre {margin: 0.2em;color: black;border-radius: 0.25em;background-color: #f0f8ff;}#sk-container-id-1 input.sk-toggleable__control:checked~div.sk-toggleable__content {max-height: 200px;max-width: 100%;overflow: auto;}#sk-container-id-1 input.sk-toggleable__control:checked~label.sk-toggleable__label-arrow:before {content: \"▾\";}#sk-container-id-1 div.sk-estimator input.sk-toggleable__control:checked~label.sk-toggleable__label {background-color: #d4ebff;}#sk-container-id-1 div.sk-label input.sk-toggleable__control:checked~label.sk-toggleable__label {background-color: #d4ebff;}#sk-container-id-1 input.sk-hidden--visually {border: 0;clip: rect(1px 1px 1px 1px);clip: rect(1px, 1px, 1px, 1px);height: 1px;margin: -1px;overflow: hidden;padding: 0;position: absolute;width: 1px;}#sk-container-id-1 div.sk-estimator {font-family: monospace;background-color: #f0f8ff;border: 1px dotted black;border-radius: 0.25em;box-sizing: border-box;margin-bottom: 0.5em;}#sk-container-id-1 div.sk-estimator:hover {background-color: #d4ebff;}#sk-container-id-1 div.sk-parallel-item::after {content: \"\";width: 100%;border-bottom: 1px solid gray;flex-grow: 1;}#sk-container-id-1 div.sk-label:hover label.sk-toggleable__label {background-color: #d4ebff;}#sk-container-id-1 div.sk-serial::before {content: \"\";position: absolute;border-left: 1px solid gray;box-sizing: border-box;top: 0;bottom: 0;left: 50%;z-index: 0;}#sk-container-id-1 div.sk-serial {display: flex;flex-direction: column;align-items: center;background-color: white;padding-right: 0.2em;padding-left: 0.2em;position: relative;}#sk-container-id-1 div.sk-item {position: relative;z-index: 1;}#sk-container-id-1 div.sk-parallel {display: flex;align-items: stretch;justify-content: center;background-color: white;position: relative;}#sk-container-id-1 div.sk-item::before, #sk-container-id-1 div.sk-parallel-item::before {content: \"\";position: absolute;border-left: 1px solid gray;box-sizing: border-box;top: 0;bottom: 0;left: 50%;z-index: -1;}#sk-container-id-1 div.sk-parallel-item {display: flex;flex-direction: column;z-index: 1;position: relative;background-color: white;}#sk-container-id-1 div.sk-parallel-item:first-child::after {align-self: flex-end;width: 50%;}#sk-container-id-1 div.sk-parallel-item:last-child::after {align-self: flex-start;width: 50%;}#sk-container-id-1 div.sk-parallel-item:only-child::after {width: 0;}#sk-container-id-1 div.sk-dashed-wrapped {border: 1px dashed gray;margin: 0 0.4em 0.5em 0.4em;box-sizing: border-box;padding-bottom: 0.4em;background-color: white;}#sk-container-id-1 div.sk-label label {font-family: monospace;font-weight: bold;display: inline-block;line-height: 1.2em;}#sk-container-id-1 div.sk-label-container {text-align: center;}#sk-container-id-1 div.sk-container {/* jupyter's `normalize.less` sets `[hidden] { display: none; }` but bootstrap.min.css set `[hidden] { display: none !important; }` so we also need the `!important` here to be able to override the default hidden behavior on the sphinx rendered scikit-learn.org. See: https://github.com/scikit-learn/scikit-learn/issues/21755 */display: inline-block !important;position: relative;}#sk-container-id-1 div.sk-text-repr-fallback {display: none;}</style><div id=\"sk-container-id-1\" class=\"sk-top-container\"><div class=\"sk-text-repr-fallback\"><pre>LogisticRegression(max_iter=1000, random_state=0)</pre><b>In a Jupyter environment, please rerun this cell to show the HTML representation or trust the notebook. <br />On GitHub, the HTML representation is unable to render, please try loading this page with nbviewer.org.</b></div><div class=\"sk-container\" hidden><div class=\"sk-item\"><div class=\"sk-estimator sk-toggleable\"><input class=\"sk-toggleable__control sk-hidden--visually\" id=\"sk-estimator-id-1\" type=\"checkbox\" checked><label for=\"sk-estimator-id-1\" class=\"sk-toggleable__label sk-toggleable__label-arrow\">LogisticRegression</label><div class=\"sk-toggleable__content\"><pre>LogisticRegression(max_iter=1000, random_state=0)</pre></div></div></div></div></div>"
      ],
      "text/plain": [
       "LogisticRegression(max_iter=1000, random_state=0)"
      ]
     },
     "execution_count": 6,
     "metadata": {},
     "output_type": "execute_result"
    }
   ],
   "source": [
    "clf = LogisticRegression(max_iter=1000,random_state=0)\n",
    "clf.fit(X_train, y_train)"
   ]
  },
  {
   "cell_type": "code",
   "execution_count": 7,
   "id": "e8090ed9",
   "metadata": {},
   "outputs": [
    {
     "name": "stdout",
     "output_type": "stream",
     "text": [
      "精确率为：0.7541322314049587\n",
      "召回率为：0.7486990756590208\n",
      "f1分数为：0.7505527940042578\n",
      "auc分数为：0.7486990756590209\n"
     ]
    },
    {
     "data": {
      "text/plain": [
       "<matplotlib.legend.Legend at 0x12d454e72e0>"
      ]
     },
     "execution_count": 7,
     "metadata": {},
     "output_type": "execute_result"
    },
    {
     "data": {
      "image/png": "[encoded data removed]",
      "text/plain": [
       "<Figure size 640x480 with 1 Axes>"
      ]
     },
     "metadata": {},
     "output_type": "display_data"
    }
   ],
   "source": [
    "from sklearn import metrics\n",
    "import matplotlib.pyplot as plt\n",
    "#预测测试集\n",
    "predictions = clf.predict(X_test)\n",
    "pred_prob = clf.predict_proba(X_test)[:,1]\n",
    "\n",
    "acc = metrics.accuracy_score(y_test, predictions) \n",
    "print('精确率为：{}'.format(acc))\n",
    "\n",
    "rcall = metrics.recall_score(y_test, predictions,average='macro') \n",
    "print('召回率为：{}'.format(rcall))\n",
    "f1 = metrics.f1_score(y_test, predictions,average='weighted') \n",
    "print('f1分数为：{}'.format(f1))\n",
    "auc = metrics.roc_auc_score(y_test, predictions) \n",
    "print('auc分数为：{}'.format(auc))\n",
    "\n",
    "\n",
    "fpr, tpr, thersholds = metrics.roc_curve(y_test, pred_prob)\n",
    "roc_auc = metrics.auc(fpr, tpr)\n",
    "plt.plot(fpr, tpr, 'b', label='ROC (area = {0:.2f})'.format(roc_auc), lw=2)\n",
    "plt.xlim([-0.05, 1.05])  \n",
    "plt.ylim([-0.05, 1.05])\n",
    "plt.xlabel('False Positive Rate')\n",
    "plt.ylabel('True Positive Rate')\n",
    "plt.title('ROC Curve')\n",
    "plt.legend(loc=\"lower right\")"
   ]
  },
  {
   "cell_type": "markdown",
   "id": "fb3f5fd3",
   "metadata": {},
   "source": [
    "## dnn"
   ]
  },
  {
   "cell_type": "code",
   "execution_count": 8,
   "id": "d4962449",
   "metadata": {},
   "outputs": [],
   "source": [
    "import torch\n",
    "from torch import tensor\n",
    "import torch.nn as nn\n",
    "import torch.nn.functional as F\n",
    "from torch.utils.data import DataLoader,Dataset\n",
    "import pandas as pd\n",
    "import numpy as np\n",
    "import torch.optim as optim\n",
    "import warnings\n",
    "warnings.filterwarnings('ignore')"
   ]
  },
  {
   "cell_type": "code",
   "execution_count": 9,
   "id": "c9b97cf8",
   "metadata": {},
   "outputs": [],
   "source": [
    "class Mydata(Dataset):\n",
    "    def __init__(self,data):\n",
    "        self.df = data.values\n",
    "    def __getitem__(self,idx):\n",
    "        features = self.df[idx,:-1]\n",
    "        label    = self.df[idx,-1]\n",
    "        return features,label\n",
    "    def __len__(self):\n",
    "        data_lens = self.df.shape[0]\n",
    "        return data_lens\n",
    "\n",
    "# 自定义三层神经网络，由于特征有限，且大部分特征为0，如果定义太多层神经网络，可能导致模型无法收敛\n",
    "# 定义神经网络类\n",
    "class Net(nn.Module):\n",
    "    def __init__(self,input_size):\n",
    "        super(Net, self).__init__()\n",
    "        self.fc1 = nn.Linear(input_size, 100)\n",
    "        self.fc2 = nn.Linear(100, 25)\n",
    "        self.fc3 = nn.Linear(25, 1)\n",
    "        self.relu = nn.ReLU()\n",
    "        self.sigmoid = nn.Sigmoid()\n",
    "\n",
    "    def forward(self, x):\n",
    "        x = self.relu(self.fc1(x))\n",
    "        x = self.relu(self.fc2(x))\n",
    "        x = self.sigmoid(self.fc3(x))\n",
    "        return x"
   ]
  },
  {
   "cell_type": "code",
   "execution_count": 12,
   "id": "0f69674b",
   "metadata": {},
   "outputs": [
    {
     "name": "stdout",
     "output_type": "stream",
     "text": [
      "Epoch [1/10], Train Loss: 0.6910, Train Acc: 16.8854, Val Loss: 0.6785, Val Acc: 15.7183\n"
     ]
    }
   ],
   "source": [
    "# 可调超参数：n_hidden、epochs、n_hidden\n",
    "# 1. 数据集读取\n",
    "train_data = X_train\n",
    "train_data['label'] = y_train\n",
    "train_val_df,val_df = train_test_split(train_data,test_size=0.2,random_state=1)\n",
    "test_data = X_test\n",
    "test_data['label'] = y_test\n",
    "input_len = df.shape[1]-1\n",
    "train_Dataset = Mydata(train_val_df)\n",
    "val_Dataset = Mydata(val_df)\n",
    "train_dataloader = DataLoader(train_Dataset, batch_size=32, shuffle=True)\n",
    "val_dataloader = DataLoader(val_Dataset, batch_size=32, shuffle=True)\n",
    "\n",
    "model = Net(input_len)\n",
    "criterion = nn.BCELoss()\n",
    "optimizer = optim.SGD(model.parameters(), lr=0.01)\n",
    "device = torch.device('cuda' if torch.cuda.is_available() else 'cpu')\n",
    "# 定义训练轮数\n",
    "num_epochs = 10\n",
    "\n",
    "model.to(device)\n",
    "criterion.to(device)\n",
    "\n",
    "# 训练模型\n",
    "for epoch in range(num_epochs):\n",
    "    train_loss = 0\n",
    "    train_acc = 0\n",
    "    val_loss = 0\n",
    "    val_acc = 0\n",
    "    \n",
    "    # 训练模式\n",
    "    model.train()\n",
    "    for inputs, labels in train_dataloader:\n",
    "        inputs = inputs.float()\n",
    "        labels = labels.reshape(-1,1)\n",
    "        optimizer.zero_grad()\n",
    "        outputs = model(inputs)\n",
    "        _, preds = torch.max(outputs, 1)\n",
    "        loss = criterion(outputs, labels.float())\n",
    "        loss.backward()\n",
    "        optimizer.step()\n",
    "        \n",
    "        # 计算训练损失和准确率\n",
    "        train_loss += loss.item() * inputs.size(0)\n",
    "        train_acc += torch.sum(torch.argmax(outputs, dim=1) == labels.data)\n",
    "        \n",
    "    # 验证模式\n",
    "   \n",
    "    for inputs, labels in val_dataloader:\n",
    "        inputs = inputs.float()\n",
    "        labels = labels.reshape(-1,1)\n",
    "        optimizer.zero_grad()\n",
    "        outputs = model(inputs)\n",
    "        _, preds = torch.max(outputs, 1)\n",
    "        loss = criterion(outputs, labels.float())\n",
    "        \n",
    "        # 计算验证损失和准确率\n",
    "        val_loss += loss.item() * labels.size(0)\n",
    "        val_acc += torch.sum(torch.argmax(outputs, dim=1) == labels.data)\n",
    "    \n",
    "    # 计算平均损失和准确率\n",
    "    train_loss = train_loss / len(train_dataloader.dataset)\n",
    "    train_acc = train_acc / len(train_dataloader.dataset)\n",
    "    val_loss = val_loss / len(val_dataloader.dataset)\n",
    "    val_acc = val_acc / len(val_dataloader.dataset)\n",
    "    \n",
    "    # 打印训练结果\n",
    "    if epoch%20 ==0:\n",
    "        print(\"Epoch [{}/{}], Train Loss: {:.4f}, Train Acc: {:.4f}, Val Loss: {:.4f}, Val Acc: {:.4f}\".format(epoch+1, num_epochs, train_loss, train_acc, val_loss, val_acc))\n"
   ]
  },
  {
   "cell_type": "code",
   "execution_count": 13,
   "id": "0ca4d68e",
   "metadata": {},
   "outputs": [],
   "source": [
    "test = torch.Tensor(test_data.iloc[:,:-1].values)\n",
    "model.eval()\n",
    "pred_y = model(test)\n",
    "pred_y = pred_y.reshape(1,-1)[0]\n",
    "pred_y = pred_y.detach().numpy()\n",
    "\n",
    "tmp = list()\n",
    "for i in pred_y:\n",
    "    tmp.append(1 if i > 0.5 else 0)\n",
    "tmp = np.array(tmp)"
   ]
  },
  {
   "cell_type": "code",
   "execution_count": 14,
   "id": "bfbf9c71",
   "metadata": {},
   "outputs": [
    {
     "name": "stdout",
     "output_type": "stream",
     "text": [
      "精确率为：0.6673553719008265\n",
      "召回率为：0.667048955837042\n",
      "f1分数为：0.667490480559282\n",
      "auc分数为：0.6670489558370422\n"
     ]
    },
    {
     "data": {
      "text/plain": [
       "<matplotlib.legend.Legend at 0x12d4a4dc1c0>"
      ]
     },
     "execution_count": 14,
     "metadata": {},
     "output_type": "execute_result"
    },
    {
     "data": {
      "image/png": "[encoded data removed]",
      "text/plain": [
       "<Figure size 640x480 with 1 Axes>"
      ]
     },
     "metadata": {},
     "output_type": "display_data"
    }
   ],
   "source": [
    "from sklearn import metrics\n",
    "import matplotlib.pyplot as plt\n",
    "predictions = tmp\n",
    "pred_prob = pred_y\n",
    "acc = metrics.accuracy_score(y_test, predictions) \n",
    "print('精确率为：{}'.format(acc))\n",
    "\n",
    "rcall = metrics.recall_score(y_test, predictions,average='macro') \n",
    "print('召回率为：{}'.format(rcall))\n",
    "f1 = metrics.f1_score(y_test, predictions,average='weighted') \n",
    "print('f1分数为：{}'.format(f1))\n",
    "auc = metrics.roc_auc_score(y_test, predictions) \n",
    "print('auc分数为：{}'.format(auc))\n",
    "\n",
    "\n",
    "fpr, tpr, thersholds = metrics.roc_curve(y_test, pred_prob)\n",
    "roc_auc = metrics.auc(fpr, tpr)\n",
    "plt.plot(fpr, tpr, 'b', label='ROC (area = {0:.2f})'.format(roc_auc), lw=2)\n",
    "plt.xlim([-0.05, 1.05])  \n",
    "plt.ylim([-0.05, 1.05])\n",
    "plt.xlabel('False Positive Rate')\n",
    "plt.ylabel('True Positive Rate')\n",
    "plt.title('ROC Curve')\n",
    "plt.legend(loc=\"lower right\")"
   ]
  },
  {
   "cell_type": "code",
   "execution_count": null,
   "id": "bd4e9698",
   "metadata": {},
   "outputs": [],
   "source": []
  }
 ],
 "metadata": {
  "kernelspec": {
   "display_name": "Python 3 (ipykernel)",
   "language": "python",
   "name": "python3"
  },
  "language_info": {
   "codemirror_mode": {
    "name": "ipython",
    "version": 3
   },
   "file_extension": ".py",
   "mimetype": "text/x-python",
   "name": "python",
   "nbconvert_exporter": "python",
   "pygments_lexer": "ipython3",
   "version": "3.9.13"
  },
  "toc": {
   "base_numbering": 1,
   "nav_menu": {},
   "number_sections": true,
   "sideBar": true,
   "skip_h1_title": false,
   "title_cell": "Table of Contents",
   "title_sidebar": "Contents",
   "toc_cell": false,
   "toc_position": {},
   "toc_section_display": true,
   "toc_window_display": false
  },
  "vp": {
   "vp_config_version": "1.0.0",
   "vp_menu_width": 273,
   "vp_note_display": false,
   "vp_note_width": 0,
   "vp_position": {
    "width": 278
   },
   "vp_section_display": false,
   "vp_signature": "VisualPython"
  }
 },
 "nbformat": 4,
 "nbformat_minor": 5
}
