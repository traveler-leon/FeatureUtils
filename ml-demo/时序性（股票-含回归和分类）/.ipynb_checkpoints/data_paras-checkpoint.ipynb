{
 "cells": [
  {
   "cell_type": "code",
   "execution_count": 1,
   "id": "2f213979",
   "metadata": {},
   "outputs": [],
   "source": [
    "import os\n",
    "import pandas as pd\n",
    "from pandas.api.indexers import FixedForwardWindowIndexer\n",
    "import warnings\n",
    "warnings.filterwarnings('ignore')"
   ]
  },
  {
   "cell_type": "code",
   "execution_count": 41,
   "id": "3bade891",
   "metadata": {},
   "outputs": [],
   "source": [
    "folder_path = './data/' #未处理的文件所在文件夹\n",
    "paras_path = './paras_data/' #处理后数据存储的位置\n",
    "all_col =['trade_date','open','high','low','close','pre_close','change','pct_chg','vol','amount'] #文件中索要留下的列\n",
    "ins_col = ['open','high','low','close'] #选择需要扩增的列\n",
    "time_col ='trade_date' #用于排序的，股票每日交易时间\n",
    "ins_time_col = [10,30,60,120,180,360,720] #扩增的时段\n",
    "\n",
    "label_later_col = 'high'\n",
    "label_font_col = 'open'\n",
    "window_size = 7"
   ]
  },
  {
   "cell_type": "code",
   "execution_count": 44,
   "id": "1c66fe08",
   "metadata": {},
   "outputs": [],
   "source": [
    "# 遍历文件夹\n",
    "for file_name in os.listdir(folder_path):\n",
    "    # 判断文件扩展名是否为csv\n",
    "    file_path = os.path.join(folder_path, file_name)\n",
    "    if file_name.endswith('.xlsx'):\n",
    "        df = pd.read_excel(file_path)\n",
    "    elif file_name.endswith('.csv'):\n",
    "        df = pd.read_csv(file_path)\n",
    "    df = df[all_col]\n",
    "    df.dropna(inplace=True)\n",
    "    df.sort_values(by='trade_date',inplace=True)\n",
    "    df['trade_date'] =df['trade_date'].astype('string')\n",
    "    df['trade_date'] =pd.to_datetime(df['trade_date'])\n",
    "    df.reset_index(drop=True,inplace=True)\n",
    "    future_drop = df.columns.to_list()\n",
    "\n",
    "    tmp_col = ins_col\n",
    "    time_col = ins_time_col\n",
    "    ins_mean_col = list()\n",
    "    ins_sum_col = list()   \n",
    "    ins_max_col = list()\n",
    "    ins_min_col = list()\n",
    "    ins_std_col = list()\n",
    "    for samp_time in time_col:\n",
    "        tmp1 = [ '{0}_0_{1}_mean'.format(i,samp_time) for i in tmp_col]\n",
    "        tmp2 = [ '{0}_0_{1}_sum'.format(i,samp_time) for i in tmp_col]\n",
    "        tmp3 = [ '{0}_0_{1}_max'.format(i,samp_time) for i in tmp_col]\n",
    "        tmp4 = [ '{0}_0_{1}_min'.format(i,samp_time) for i in tmp_col]\n",
    "        tmp5 = [ '{0}_0_{1}_std'.format(i,samp_time) for i in tmp_col]\n",
    "        ins_mean_col.append(tmp1.copy())\n",
    "        ins_sum_col.append(tmp2.copy())\n",
    "        ins_max_col.append(tmp3.copy())\n",
    "        ins_min_col.append(tmp4.copy())\n",
    "        ins_std_col.append(tmp5.copy())\n",
    "\n",
    "    for i,dst_time in enumerate(time_col):\n",
    "        df[ins_mean_col[i]] = df.rolling(dst_time,min_periods=1).agg(dict(zip(ins_col,['mean']*len(ins_col))))\n",
    "        df[ins_sum_col[i]] = df.rolling(dst_time,min_periods=1).agg(dict(zip(ins_col,['sum']*len(ins_col))))\n",
    "        df[ins_max_col[i]] = df.rolling(dst_time,min_periods=1).agg(dict(zip(ins_col,['max']*len(ins_col))))\n",
    "        df[ins_min_col[i]] = df.rolling(dst_time,min_periods=1).agg(dict(zip(ins_col,['min']*len(ins_col))))\n",
    "        df[ins_std_col[i]] = df.rolling(dst_time,min_periods=1).agg(dict(zip(ins_col,['std']*len(ins_col))))        \n",
    "\n",
    "    df['y_7'] = df.rolling(FixedForwardWindowIndexer(window_size=window_size)).agg({label_later_col:'max'})\n",
    "    df.dropna(inplace=True)\n",
    "    df['label'] = (df['y_7']/(df[label_font_col])>1.02).astype(int)\n",
    "    df['label'].value_counts()\n",
    "    df.drop(future_drop,axis=1,inplace=True)\n",
    "    df.dropna(inplace=True)\n",
    "\n",
    "    dst_file_name = file_path.split('/')[-1]\n",
    "    end_path = os.path.join(paras_path, dst_file_name)\n",
    "    df.to_excel(end_path,index=False)"
   ]
  },
  {
   "cell_type": "code",
   "execution_count": null,
   "id": "475bfccc",
   "metadata": {},
   "outputs": [],
   "source": []
  }
 ],
 "metadata": {
  "kernelspec": {
   "display_name": "Python 3 (ipykernel)",
   "language": "python",
   "name": "python3"
  },
  "language_info": {
   "codemirror_mode": {
    "name": "ipython",
    "version": 3
   },
   "file_extension": ".py",
   "mimetype": "text/x-python",
   "name": "python",
   "nbconvert_exporter": "python",
   "pygments_lexer": "ipython3",
   "version": "3.9.13"
  },
  "toc": {
   "base_numbering": 1,
   "nav_menu": {},
   "number_sections": true,
   "sideBar": true,
   "skip_h1_title": false,
   "title_cell": "Table of Contents",
   "title_sidebar": "Contents",
   "toc_cell": false,
   "toc_position": {},
   "toc_section_display": true,
   "toc_window_display": false
  },
  "vp": {
   "vp_config_version": "1.0.0",
   "vp_menu_width": 273,
   "vp_note_display": false,
   "vp_note_width": 0,
   "vp_position": {
    "width": 278
   },
   "vp_section_display": false,
   "vp_signature": "VisualPython"
  }
 },
 "nbformat": 4,
 "nbformat_minor": 5
}
